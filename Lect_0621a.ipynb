{
 "cells": [
  {
   "cell_type": "markdown",
   "metadata": {},
   "source": [
    "# Lecture 06-21-2021 -- Part a\n",
    "\n",
    "## Today we will cover\n",
    " - Brief history of python\n",
    " - Python's place in the family of programming languages\n",
    " - Basic variables (integer, float, string)\n",
    " - Conversions between the basic variable types\n",
    " - Boolean variables\n",
    " - \"Collection\" data types\n",
    "    - lists\n",
    "    - tuples\n",
    "    - sets\n",
    "    - dictionaries\n",
    " - Operators\n",
    " - Control statements\n",
    " - Functions\n",
    " \n",
    "## Today's homework will be:\n",
    "1. Write a function to compute the square root of a positive number.\n",
    "2. Write a function to compute prime numbers.\n",
    "\n",
    "\n",
    " \n",
    "For more detail on python please see the Purdue DataMine web link: <a href=\"https://thedatamine.github.io/the-examples-book/python.html\" target=\"_blank\">Data Mine on Python</a>"
   ]
  },
  {
   "cell_type": "markdown",
   "metadata": {},
   "source": [
    "## History of Python, Etc.\n",
    "\n",
    "- Conceived by Guido van Rossum in December 1989 at the Center Wiskunde and Informatica (Dutch national research institute for mathematics and computer science).\n",
    "- Python version 1.0 in January 1994.\n",
    "- GNU General Public License (open source) since version 1.6.1.\n",
    "- Python version 2.0 in October 2000.\n",
    "- Python Software Foundation formed in 2001 and a new open source license.\n",
    "- Python version 2.7 was the last release in the version 2 series. Support ended January 2020.\n",
    "-Python version 3.0 released December 2008. It broke backward compatibility with much of the verson 2 code.\n",
    "- Latest version is 3.9 (October 2020)."
   ]
  },
  {
   "cell_type": "code",
   "execution_count": 1,
   "metadata": {},
   "outputs": [
    {
     "name": "stdout",
     "output_type": "stream",
     "text": [
      "Python 3.5.6 :: Anaconda, Inc.\r\n"
     ]
    }
   ],
   "source": [
    "!python -V"
   ]
  },
  {
   "cell_type": "markdown",
   "metadata": {},
   "source": [
    "## According to stackoverflow survey of profession software developers ...\n",
    "\n",
    "<img align=\"left\" src='Figs/DeveloperSurvey2021.png' width=\"300\"/>"
   ]
  },
  {
   "cell_type": "markdown",
   "metadata": {},
   "source": [
    "## As concerns languages for data science ...\n",
    "\n",
    "The contenders are Python and R. For **Python**\n",
    "\n",
    "* Most popular among data scientists.\n",
    "* Very useful in machine learning and artificial intelligence because of the availabilty of popular libraries such as scikit-learn, matplotlib, and tensorflow, etc.\n",
    "\n",
    "For **R**\n",
    "\n",
    "* A scripting language.\n",
    "* Very good support for statistical computation and visulalization.\n",
    "\n",
    "This course is focussed on Python instead of R because that is a better for the work of my research group. For an independent comparison of the two: <a href=\"https://https://flatironschool.com/blog/r-vs-python\" target=\"_blank\">R Vs Python: Which One Should You Learn?</a>\n"
   ]
  },
  {
   "cell_type": "markdown",
   "metadata": {},
   "source": [
    "## Basic variables\n",
    "\n",
    "Python uses something called **dynamic typing**, which means that a variable is created when a value is assigned to it. The type can be changed after originally set. There are a few rules on variable names:\n",
    "\n",
    "* Must start with a letter or underscore\n",
    "* Names are case-sensitive\n",
    "\n",
    "A python variable is more than just its value. It must also contain information about the type of the value. There is overhead associated with such flexibility. The code below illustrates three of the variable types: **integer, float, and string**."
   ]
  },
  {
   "cell_type": "code",
   "execution_count": 2,
   "metadata": {},
   "outputs": [
    {
     "name": "stdout",
     "output_type": "stream",
     "text": [
      "The type of x is:\n",
      "<class 'int'>\n",
      "\n",
      "The value of x is:\n",
      "4\n"
     ]
    }
   ],
   "source": [
    "# Integer, i.e., whole numbers both positive and negative. Later on \n",
    "# we will illustrate formatting the print command.\n",
    "x = 4;\n",
    "print('The type of x is:')\n",
    "print(type(x))\n",
    "print() # Just to give a space.\n",
    "print('The value of x is:')\n",
    "print(x)"
   ]
  },
  {
   "cell_type": "code",
   "execution_count": 3,
   "metadata": {},
   "outputs": [
    {
     "name": "stdout",
     "output_type": "stream",
     "text": [
      "The type of x is:\n",
      "<class 'float'>\n",
      "\n",
      "The value of x is:\n",
      "4.0\n"
     ]
    }
   ],
   "source": [
    "# Floating point, i.e., computer representation of real numbers.\n",
    "x = 4.0;\n",
    "print('The type of x is:')\n",
    "print(type(x))\n",
    "print() # Just to give a space.\n",
    "print('The value of x is:')\n",
    "print(x)"
   ]
  },
  {
   "cell_type": "code",
   "execution_count": 4,
   "metadata": {},
   "outputs": [
    {
     "name": "stdout",
     "output_type": "stream",
     "text": [
      "The type of x is:\n",
      "<class 'str'>\n",
      "\n",
      "The value of x is:\n",
      "four\n"
     ]
    }
   ],
   "source": [
    "# Strings. A string is a sequence of characters. They can be delimited\n",
    "# by single quotes ('blah') or double quotes (\"blah blah\")\n",
    "x = \"four\"\n",
    "print('The type of x is:')\n",
    "print(type(x))\n",
    "print() # Just to give a space.\n",
    "print('The value of x is:')\n",
    "print(x)"
   ]
  },
  {
   "cell_type": "markdown",
   "metadata": {},
   "source": [
    "## Conversions\n",
    "Python has a built-in command `float()` that can convert integers and certain strings to floating point numbers."
   ]
  },
  {
   "cell_type": "code",
   "execution_count": 5,
   "metadata": {},
   "outputs": [
    {
     "name": "stdout",
     "output_type": "stream",
     "text": [
      "The type of x is:\n",
      "<class 'int'>\n",
      "\n",
      "The value of x is:\n",
      "4\n"
     ]
    }
   ],
   "source": [
    "# Start with an int.\n",
    "x = 4;\n",
    "\n",
    "print('The type of x is:')\n",
    "print(type(x))\n",
    "print()\n",
    "print('The value of x is:')\n",
    "print(x)"
   ]
  },
  {
   "cell_type": "code",
   "execution_count": 6,
   "metadata": {},
   "outputs": [
    {
     "name": "stdout",
     "output_type": "stream",
     "text": [
      "The type of x is:\n",
      "<class 'float'>\n",
      "\n",
      "The value of x is:\n",
      "4.0\n"
     ]
    }
   ],
   "source": [
    "# Convert to float\n",
    "x = float(x)\n",
    "print('The type of x is:')\n",
    "print(type(x))\n",
    "print()\n",
    "print('The value of x is:')\n",
    "print(x)"
   ]
  },
  {
   "cell_type": "code",
   "execution_count": 7,
   "metadata": {},
   "outputs": [
    {
     "name": "stdout",
     "output_type": "stream",
     "text": [
      "The type of x is:\n",
      "<class 'str'>\n",
      "\n",
      "The value of x is:\n",
      "1.67\n"
     ]
    }
   ],
   "source": [
    "# Can also convert strings representing floating point numbers to\n",
    "# float.\n",
    "x = '1.67'\n",
    "print('The type of x is:')\n",
    "print(type(x))\n",
    "print()\n",
    "print('The value of x is:')\n",
    "print(x)"
   ]
  },
  {
   "cell_type": "code",
   "execution_count": 8,
   "metadata": {},
   "outputs": [
    {
     "name": "stdout",
     "output_type": "stream",
     "text": [
      "The type of x is:\n",
      "<class 'float'>\n",
      "\n",
      "The value of x is:\n",
      "1.67\n"
     ]
    }
   ],
   "source": [
    "# Note that when we print the string version of x it prints it just\n",
    "# as if it were a floating point number, i.e., we can't tell from the\n",
    "# output.\n",
    "x = float(x)\n",
    "print('The type of x is:')\n",
    "print(type(x))\n",
    "print()\n",
    "print('The value of x is:')\n",
    "print(x)"
   ]
  },
  {
   "cell_type": "markdown",
   "metadata": {},
   "source": [
    "There is also a python command `int()`, which can covert floats to integer and certain strings to integer, and a command `str()`, which converts numbers to strings."
   ]
  },
  {
   "cell_type": "markdown",
   "metadata": {},
   "source": [
    "## Boolean type\n",
    "A Boolean value has a python type **bool**. The possible values a Boolean variable can take are: **True** and **False**. These are typically used to hold the results of logical tests, which in turn can be used to control the flow of a python program."
   ]
  },
  {
   "cell_type": "code",
   "execution_count": 9,
   "metadata": {},
   "outputs": [
    {
     "name": "stdout",
     "output_type": "stream",
     "text": [
      "The type of x is:\n",
      "<class 'bool'>\n",
      "\n",
      "The value of x is:\n",
      "True\n"
     ]
    }
   ],
   "source": [
    "x = True;\n",
    "print('The type of x is:')\n",
    "print(type(x))\n",
    "print()\n",
    "print('The value of x is:')\n",
    "print(x)"
   ]
  },
  {
   "cell_type": "markdown",
   "metadata": {},
   "source": [
    "## Collection data types\n",
    "There are four **collection** data types: **lists**, **tuples**, **sets**, and **dictionaries**. (Some say that a **string** is a collection data type since it is a ordered set of characters)."
   ]
  },
  {
   "cell_type": "markdown",
   "metadata": {},
   "source": [
    "### <u>Lists</u> are ordered, changeable, and allow duplicate members:"
   ]
  },
  {
   "cell_type": "code",
   "execution_count": 10,
   "metadata": {},
   "outputs": [
    {
     "name": "stdout",
     "output_type": "stream",
     "text": [
      "The type of Coloradothings is:\n",
      "<class 'list'>\n",
      "\n",
      "The length of Coloradothings is:\n",
      "5\n",
      "\n",
      "The value of Coloradothings is:\n",
      "['wheat', 'corn', 'sugar beets', 'pinto beans', 1959]\n"
     ]
    }
   ],
   "source": [
    "# Create a list with 5 elements.\n",
    "Coloradothings = [\"wheat\", \"corn\", \"sugar beets\", \"pinto beans\", 1959]\n",
    "print('The type of Coloradothings is:')\n",
    "print(type(Coloradothings))\n",
    "print()\n",
    "print('The length of Coloradothings is:')\n",
    "print(len(Coloradothings))\n",
    "print()\n",
    "print('The value of Coloradothings is:')\n",
    "print(Coloradothings)"
   ]
  },
  {
   "cell_type": "code",
   "execution_count": 11,
   "metadata": {},
   "outputs": [
    {
     "name": "stdout",
     "output_type": "stream",
     "text": [
      "For Coloradothings[3] ...\n",
      "pinto beans\n",
      "<class 'str'>\n",
      "\n",
      "For Coloradothings[4] ...\n",
      "1959\n",
      "<class 'int'>\n"
     ]
    }
   ],
   "source": [
    "# The elements inside of Coloradothings may be of differing\n",
    "# types ...\n",
    "print('For Coloradothings[3] ...')\n",
    "print(Coloradothings[3])\n",
    "print(type(Coloradothings[3]))\n",
    "print()\n",
    "print('For Coloradothings[4] ...')\n",
    "print(Coloradothings[4])\n",
    "print(type(Coloradothings[4]))"
   ]
  },
  {
   "cell_type": "code",
   "execution_count": 12,
   "metadata": {},
   "outputs": [
    {
     "name": "stdout",
     "output_type": "stream",
     "text": [
      "['wheat', 'corn', 'sugar beets', 'pinto beans', 1959, 'Amherst']\n",
      "\n",
      "['wheat', 'corn', 'sunflowers', 'sugar beets', 'pinto beans', 1959, 'Amherst']\n"
     ]
    }
   ],
   "source": [
    "# We can append to a list and insert in a list\n",
    "\n",
    "Coloradothings.append(\"Amherst\")\n",
    "print(Coloradothings)\n",
    "print()\n",
    "Coloradothings.insert(2, \"sunflowers\")\n",
    "print(Coloradothings)"
   ]
  },
  {
   "cell_type": "markdown",
   "metadata": {},
   "source": [
    "### <u>Tuples</u> are ordered, unchangeable, and allow duplicate members."
   ]
  },
  {
   "cell_type": "code",
   "execution_count": 13,
   "metadata": {},
   "outputs": [
    {
     "name": "stdout",
     "output_type": "stream",
     "text": [
      "<class 'tuple'>\n",
      "\n",
      "('Basketball', 'Corn')\n"
     ]
    }
   ],
   "source": [
    "# Make a tuple.\n",
    "Indianathings = (\"Basketball\", \"Corn\")\n",
    "print(type(Indianathings))\n",
    "print()\n",
    "print(Indianathings)\n",
    "#Indianathings.append(\"Wall street\") # uncomment this to see an error\n"
   ]
  },
  {
   "cell_type": "markdown",
   "metadata": {},
   "source": [
    "Tuples can contain a single item but to do this we must specify them with a comma after the first and only element, e.g., `Indianathings = (\"Basketball\")` is not a tuple (it's a string), while `Indianathings = (\"Basketball\",)` is a tuple.\n",
    "\n",
    "Tuples cannot be changed. For example, if Indianathings is a tuple then `Indianathings.append(\"Wall street\")` will cause an error."
   ]
  },
  {
   "cell_type": "markdown",
   "metadata": {},
   "source": [
    "### <u>Sets</u> are unordered, changeable (in the sense that we can add and remove items from sets). Sets do not allow duplicates."
   ]
  },
  {
   "cell_type": "code",
   "execution_count": 14,
   "metadata": {},
   "outputs": [
    {
     "name": "stdout",
     "output_type": "stream",
     "text": [
      "<class 'set'>\n",
      "{'Ross-Ade Stadium', 'Gene Keady', 'Ag and Bio Engineering', 'students', 'professors', 'study sessions'}\n",
      "\n",
      "True\n",
      "False\n"
     ]
    }
   ],
   "source": [
    "# Make a set.\n",
    "Purduethings = {\"Ag and Bio Engineering\", \"Ross-Ade Stadium\", \"students\", \"professors\", \"Gene Keady\", \"study sessions\"}\n",
    "print(type(Purduethings))\n",
    "print(Purduethings) # Note the order it prints\n",
    "print()\n",
    "\n",
    "print(\"Ag and Bio Engineering\" in Purduethings)\n",
    "print(\"Medical School\" in Purduethings)"
   ]
  },
  {
   "cell_type": "markdown",
   "metadata": {},
   "source": [
    "From the code output above we note:\n",
    "1. The order in which we included the set items when defining it is not the order that python used to enumerate the items when printing. Just FYI.\n",
    "2. The statement in the last print command: `\"Ag and Bio Engineering\" in Purduethings` is a Boolean variable."
   ]
  },
  {
   "cell_type": "markdown",
   "metadata": {},
   "source": [
    "We can perform classical set operations (**union**, **intersection**, **difference**, **test subset**):"
   ]
  },
  {
   "cell_type": "code",
   "execution_count": 15,
   "metadata": {},
   "outputs": [
    {
     "name": "stdout",
     "output_type": "stream",
     "text": [
      "Purduethings union IUthings equals:\n",
      "{'Ross-Ade Stadium', 'Hoosiers', 'Gene Keady', 'Ag and Bio Engineering', 'parties', 'students', 'professors', 'study sessions', 'Bobby Knight'}\n",
      "\n",
      "Purduethings intersection IUthings equals:\n",
      "{'students', 'professors'}\n",
      "\n",
      "IUthings not also in Purduethings equals:\n",
      "{'Bobby Knight', 'Hoosiers', 'parties'}\n",
      "\n",
      "False\n",
      "True\n"
     ]
    }
   ],
   "source": [
    "# Make another set ...\n",
    "IUthings = {\"Hoosiers\", \"Bobby Knight\", \"students\", \"professors\", \"parties\"}\n",
    "print('Purduethings union IUthings equals:')\n",
    "print(Purduethings.union(IUthings))\n",
    "print()\n",
    "print('Purduethings intersection IUthings equals:')\n",
    "print(Purduethings.intersection(IUthings))\n",
    "print()\n",
    "print('IUthings not also in Purduethings equals:')\n",
    "print(IUthings.difference(Purduethings))\n",
    "print()\n",
    "print({\"Gene Cernan\",}.issubset(Purduethings))\n",
    "Purduethings.add(\"Gene Cernan\")\n",
    "print({\"Gene Cernan\",}.issubset(Purduethings))\n",
    "\n",
    "#print(Purduethings)"
   ]
  },
  {
   "cell_type": "markdown",
   "metadata": {},
   "source": [
    "### <u>Dictionaries</u> are unordered, changeable, and indexed. Written with \"{}\" but made up of key-value pairs. \n",
    "\n",
    "A **key-value pair** is a pair of strings separated by a colon. Different key-value pairs are separated by commas. It looks like `{\"key1\": \"value1\", \"key2: \"value2\"}`."
   ]
  },
  {
   "cell_type": "code",
   "execution_count": 16,
   "metadata": {},
   "outputs": [
    {
     "name": "stdout",
     "output_type": "stream",
     "text": [
      "<class 'dict'>\n",
      "{'color': 'green', 'year': 1978, 'brand': 'JD', 'model': '7720'}\n"
     ]
    }
   ],
   "source": [
    "# Make some dictionaries of farm equipment.\n",
    "OldCombine = {\"brand\": \"CASE\", \"model\": \"7130\", \"year\": 2014}\n",
    "NewCombine = {\"brand\": \"CASE\", \"model\": \"8240\", \"year\": 2016}\n",
    "Tractor1 = {\"brand\": \"CASE\", \"model\": \"290\", \"year\": 2013}\n",
    "Pickup = {\"brand\": \"CHEVY\", \"model\": \"Silverado\", \"year\": 2005}\n",
    "FavoriteOldCombineEver = {\"brand\": \"JD\", \"model\": \"7720\", \"year\": 1978, \"color\": \"green\"}\n",
    "\n",
    "print(type(FavoriteOldCombineEver))\n",
    "print(FavoriteOldCombineEver)"
   ]
  },
  {
   "cell_type": "markdown",
   "metadata": {},
   "source": [
    "**Note:** Dictionaries can contain dictionaries."
   ]
  },
  {
   "cell_type": "code",
   "execution_count": 17,
   "metadata": {},
   "outputs": [
    {
     "name": "stdout",
     "output_type": "stream",
     "text": [
      "{'T1': {'year': 2013, 'brand': 'CASE', 'model': '290'}, 'C3': {'color': 'green', 'year': 1978, 'brand': 'JD', 'model': '7720'}, 'P1': {'year': 2005, 'brand': 'CHEVY', 'model': 'Silverado'}, 'C2': {'year': 2016, 'brand': 'CASE', 'model': '8240'}, 'C1': {'year': 2014, 'brand': 'CASE', 'model': '7130'}}\n"
     ]
    }
   ],
   "source": [
    "# Create a dictionary of farm equipment from the dictionaries of\n",
    "# individual machines.\n",
    "\n",
    "FarmEquipment = {\"C1\": OldCombine, \"C2\": NewCombine, \"T1\": Tractor1, \"P1\": Pickup, \"C3\": FavoriteOldCombineEver}\n",
    "print(FarmEquipment)"
   ]
  },
  {
   "cell_type": "markdown",
   "metadata": {},
   "source": [
    "## Operators"
   ]
  },
  {
   "cell_type": "markdown",
   "metadata": {},
   "source": [
    "### Arithmetic operators: +, -, *, /, %, **"
   ]
  },
  {
   "cell_type": "code",
   "execution_count": 18,
   "metadata": {},
   "outputs": [
    {
     "name": "stdout",
     "output_type": "stream",
     "text": [
      "12\n",
      "2\n",
      "35\n",
      "1.4\n",
      "2\n",
      "16807\n"
     ]
    }
   ],
   "source": [
    "# Arithmetic operators: +, -, *, /, %, **\n",
    "\n",
    "print(7 + 5)  # addition\n",
    "print(7 - 5)  # subtraction\n",
    "print(7 * 5)  # multiplication\n",
    "print(7 / 5)  # division\n",
    "print(7 % 5)  # remainder upon integer division\n",
    "print(7 ** 5) # exponentiation"
   ]
  },
  {
   "cell_type": "markdown",
   "metadata": {},
   "source": [
    "### Assignment operators: =, +=, -=, *=, /=, **="
   ]
  },
  {
   "cell_type": "code",
   "execution_count": 19,
   "metadata": {},
   "outputs": [
    {
     "name": "stdout",
     "output_type": "stream",
     "text": [
      "5\n",
      "10\n",
      "5\n",
      "25\n",
      "5.0\n",
      "3125.0\n"
     ]
    }
   ],
   "source": [
    "# Assignment operators: =, +=, -=, *=, /=, **=\n",
    "\n",
    "b = 5\n",
    "a = b\n",
    "print(a)\n",
    "a += b # shorthand for a = a + b\n",
    "print(a)\n",
    "a -= b # shorthand for a = a - b\n",
    "print(a)\n",
    "a *= b # shorthand for a = a*b\n",
    "print(a)\n",
    "a /= b # shorthand for a = a/b\n",
    "print(a)\n",
    "a **= b # shorthand for a = a**b\n",
    "print(a)"
   ]
  },
  {
   "cell_type": "markdown",
   "metadata": {},
   "source": [
    "### Comparison operators: ==, !=, <, <=, >, >="
   ]
  },
  {
   "cell_type": "code",
   "execution_count": 20,
   "metadata": {},
   "outputs": [
    {
     "name": "stdout",
     "output_type": "stream",
     "text": [
      "False\n",
      "True\n",
      "False\n",
      "False\n",
      "True\n",
      "True\n"
     ]
    }
   ],
   "source": [
    "# Comparison operators: ==, !=, <, <=, >, >=\n",
    "\n",
    "a = 3\n",
    "b = 2\n",
    "\n",
    "print(a == b)\n",
    "print(a != b)\n",
    "print(a < b)\n",
    "print(a <= b)\n",
    "print(a > b)\n",
    "print(a >= b)\n"
   ]
  },
  {
   "cell_type": "markdown",
   "metadata": {},
   "source": [
    "### Logical operators: and, or, not"
   ]
  },
  {
   "cell_type": "code",
   "execution_count": 21,
   "metadata": {},
   "outputs": [
    {
     "name": "stdout",
     "output_type": "stream",
     "text": [
      "<class 'bool'>\n",
      "False\n",
      "\n",
      "<class 'bool'>\n",
      "True\n",
      "\n",
      "True\n",
      "False\n"
     ]
    }
   ],
   "source": [
    "# Logical operators: and, or, not\n",
    "\n",
    "x = (a == b) # The expression a == b it a Boolean value (either True or False).\n",
    "             # The assignment creates a Boolean variable x\n",
    "print(type(x))\n",
    "print(x)\n",
    "\n",
    "print()\n",
    "\n",
    "y = not(x)\n",
    "print(type(y))\n",
    "print(y)\n",
    "\n",
    "print()\n",
    "\n",
    "z = True\n",
    "\n",
    "print(x or z)\n",
    "print(x and z)\n"
   ]
  },
  {
   "cell_type": "markdown",
   "metadata": {},
   "source": [
    "## Control statements\n",
    "There are three methods of program control that we consider here:\n",
    "1. If/else statement\n",
    "2. For loops\n",
    "3. While loops"
   ]
  },
  {
   "cell_type": "code",
   "execution_count": 22,
   "metadata": {},
   "outputs": [
    {
     "name": "stdout",
     "output_type": "stream",
     "text": [
      "a is greater than b\n"
     ]
    }
   ],
   "source": [
    "# Example if/else statement\n",
    "\n",
    "a = 5;\n",
    "b = 3;\n",
    "if b > a:\n",
    "    print(\"b is greater than a\")\n",
    "elif a == b:\n",
    "    print(\"a and b are equal\")\n",
    "else:\n",
    "    print(\"a is greater than b\")"
   ]
  },
  {
   "cell_type": "code",
   "execution_count": 23,
   "metadata": {},
   "outputs": [
    {
     "name": "stdout",
     "output_type": "stream",
     "text": [
      "1\n",
      "2\n",
      "3\n",
      "4\n",
      "5\n"
     ]
    }
   ],
   "source": [
    "# While loop: Execute while condition is true.\n",
    "\n",
    "i = 1\n",
    "while i < 6:\n",
    "    print(i)\n",
    "    i += 1"
   ]
  },
  {
   "cell_type": "code",
   "execution_count": 24,
   "metadata": {},
   "outputs": [
    {
     "name": "stdout",
     "output_type": "stream",
     "text": [
      "b\n",
      "a\n",
      "n\n",
      "a\n",
      "n\n",
      "a\n",
      "\n",
      "\n",
      "Try continue command\n",
      "\n",
      "\n",
      "b\n",
      "a\n",
      "a\n",
      "a\n"
     ]
    }
   ],
   "source": [
    "# For loop: Iterate over a sequence. Also, have break (stop a loop where it is \n",
    "# and exit) and continue (move to the next iteration of loop).\n",
    "\n",
    "for x in \"banana\":\n",
    "    print(x)\n",
    "    \n",
    "print(\"\\n\")    \n",
    "print(\"Try continue command\")\n",
    "print(\"\\n\")\n",
    "\n",
    "for x in \"banana\":\n",
    "    if x == \"n\":\n",
    "        continue\n",
    "    print(x)"
   ]
  },
  {
   "cell_type": "markdown",
   "metadata": {},
   "source": [
    "# Let's take a break. Watch some videos, etc."
   ]
  },
  {
   "cell_type": "markdown",
   "metadata": {},
   "source": [
    "### Yang Wang on signing up for Github ...\n",
    "\n",
    "<a href=\"https://www.youtube.com/watch?v=ZhHDfZ-l7ZU\" target=\"_blank\">Sign Up for Github</a>"
   ]
  },
  {
   "cell_type": "markdown",
   "metadata": {},
   "source": [
    "### Yang Wang on ...\n",
    "\n",
    "<a href=\"https://www.youtube.com/watch?v=ZB9VgHFqqXU\" target=\"_blank\">Fork a Github Repository</a>\n",
    "\n",
    "<a href=\"https://www.youtube.com/watch?v=nT1NPCyTtyo\" target=\"_blank\">Commit Changes to a Github Repository</a>"
   ]
  },
  {
   "cell_type": "markdown",
   "metadata": {},
   "source": [
    "### Now you should:\n",
    "\n",
    "1. Create your own Github account if you do not already have one. Assuming you are wanting to keep this account after this summer, I would use an email that you will have for the long run.\n",
    "2. Fork the repo `jvkrogmeier/REEU21-Mon-06-21`\n",
    "3. Click on the mybinder link to run a version of the code.\n",
    "4. Experiment with the code for `Lect_0621a`"
   ]
  },
  {
   "cell_type": "code",
   "execution_count": null,
   "metadata": {},
   "outputs": [],
   "source": []
  },
  {
   "cell_type": "code",
   "execution_count": null,
   "metadata": {},
   "outputs": [],
   "source": []
  }
 ],
 "metadata": {
  "kernelspec": {
   "display_name": "Python 3",
   "language": "python",
   "name": "python3"
  },
  "language_info": {
   "codemirror_mode": {
    "name": "ipython",
    "version": 3
   },
   "file_extension": ".py",
   "mimetype": "text/x-python",
   "name": "python",
   "nbconvert_exporter": "python",
   "pygments_lexer": "ipython3",
   "version": "3.5.6"
  }
 },
 "nbformat": 4,
 "nbformat_minor": 2
}
